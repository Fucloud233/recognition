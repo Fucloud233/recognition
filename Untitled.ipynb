{
 "cells": [
  {
   "cell_type": "code",
   "execution_count": 27,
   "id": "299d18c6-a7e3-492c-b39f-cafbfd4ff434",
   "metadata": {},
   "outputs": [],
   "source": [
    "from PIL import Image\n",
    "import os\n",
    "import xml.etree.ElementTree as ET\n",
    "\n",
    "from PIL import Image\n",
    "from tqdm import tqdm\n",
    "\n",
    "import colorsys\n",
    "import os\n",
    "import time\n",
    "\n",
    "import numpy as np\n",
    "import torch\n",
    "import torch.nn as nn\n",
    "from PIL import ImageDraw, ImageFont\n",
    "\n",
    "\n",
    "classes_path    = 'model_data/voc_classes.txt'"
   ]
  },
  {
   "cell_type": "code",
   "execution_count": 28,
   "id": "b576bdec-2af4-41ec-a7a3-77ce35f1bab7",
   "metadata": {},
   "outputs": [],
   "source": [
    "VOCdevkit_path  = 'VOCdevkit'\n",
    "#-------------------------------------------------------#\n",
    "#   结果输出的文件夹，默认为map_out\n",
    "#-------------------------------------------------------#\n",
    "map_out_path    = 'map_out2'"
   ]
  },
  {
   "cell_type": "code",
   "execution_count": 29,
   "id": "1e25c732-1b4a-4e48-9fb0-da57025626c2",
   "metadata": {},
   "outputs": [
    {
     "data": {
      "text/plain": [
       "['0μl', '2μl', '4μl', '6μl']"
      ]
     },
     "execution_count": 29,
     "metadata": {},
     "output_type": "execute_result"
    }
   ],
   "source": [
    "def get_classes(classes_path):\n",
    "    with open(classes_path, encoding='utf-8') as f:\n",
    "        class_names = f.readlines()\n",
    "    class_names = [c.strip() for c in class_names]\n",
    "    return class_names, len(class_names)\n",
    "\n",
    "class_names, _ = get_classes(classes_path)\n",
    "class_names"
   ]
  },
  {
   "cell_type": "code",
   "execution_count": 43,
   "id": "85101c44-59dc-4e8d-b860-e940b3fb685f",
   "metadata": {},
   "outputs": [],
   "source": [
    "def cvtColor(image):\n",
    "    if len(np.shape(image)) == 3 and np.shape(image)[2] == 3:\n",
    "        return image \n",
    "    else:\n",
    "        image = image.convert('RGB')\n",
    "        return image \n",
    "    \n",
    "def resize_image(image, size, letterbox_image):\n",
    "    iw, ih  = image.size\n",
    "    w, h    = size\n",
    "    if letterbox_image:\n",
    "        scale   = min(w/iw, h/ih)\n",
    "        nw      = int(iw*scale)\n",
    "        nh      = int(ih*scale)\n",
    "\n",
    "        image   = image.resize((nw,nh), Image.BICUBIC)\n",
    "        new_image = Image.new('RGB', size, (128,128,128))\n",
    "        new_image.paste(image, ((w-nw)//2, (h-nh)//2))\n",
    "    else:\n",
    "        new_image = image.resize((w, h), Image.BICUBIC)\n",
    "    return new_image\n",
    "\n",
    "def preprocess_input(image):\n",
    "    image /= 255.0\n",
    "    return image"
   ]
  },
  {
   "cell_type": "code",
   "execution_count": 39,
   "id": "85aafe44-ea1a-4013-8b26-e2d3e76e3674",
   "metadata": {},
   "outputs": [],
   "source": [
    "input_shape=[416, 416]\n",
    "letterbox_image=False,"
   ]
  },
  {
   "cell_type": "code",
   "execution_count": 30,
   "id": "04b02aa9-eed6-48ef-b5ef-68725b9ff612",
   "metadata": {},
   "outputs": [],
   "source": [
    "image_ids = open(os.path.join(VOCdevkit_path, \"VOC2007/ImageSets/Main/test.txt\")).read().strip().split()"
   ]
  },
  {
   "cell_type": "code",
   "execution_count": 47,
   "id": "8bce483d-9c8c-4c88-b4d3-f5a712652228",
   "metadata": {},
   "outputs": [
    {
     "name": "stderr",
     "output_type": "stream",
     "text": [
      "100%|██████████| 74/74 [00:04<00:00, 17.01it/s]"
     ]
    },
    {
     "name": "stdout",
     "output_type": "stream",
     "text": [
      "Get predict result done.\n"
     ]
    },
    {
     "name": "stderr",
     "output_type": "stream",
     "text": [
      "\n"
     ]
    }
   ],
   "source": [
    "if not os.path.exists(map_out_path):\n",
    "    os.makedirs(map_out_path)\n",
    "\n",
    "if not os.path.exists(os.path.join(map_out_path, 'detection-results')):\n",
    "    os.makedirs(os.path.join(map_out_path, 'detection-results'))\n",
    "\n",
    "for image_id in tqdm(image_ids):\n",
    "    image_path  = os.path.join(VOCdevkit_path, \"VOC2007/JPEGImages/\"+image_id+\".jpg\")\n",
    "    image       = Image.open(image_path)\n",
    "    get_map_txt(image_id, image, class_names, map_out_path)\n",
    "print(\"Get predict result done.\")"
   ]
  },
  {
   "cell_type": "code",
   "execution_count": 46,
   "id": "97bc7883-993d-4116-b828-a716b398d4c4",
   "metadata": {},
   "outputs": [],
   "source": [
    "def get_map_txt( image_id, image, class_names, map_out_path):\n",
    "    f = open(os.path.join(map_out_path, \"detection-results/\"+image_id+\".txt\"),\"w\") \n",
    "    image_shape = np.array(np.shape(image)[0:2])\n",
    "    #---------------------------------------------------------#\n",
    "    #   在这里将图像转换成RGB图像，防止灰度图在预测时报错。\n",
    "    #   代码仅仅支持RGB图像的预测，所有其它类型的图像都会转化成RGB\n",
    "    #---------------------------------------------------------#\n",
    "    image       = cvtColor(image)\n",
    "    #---------------------------------------------------------#\n",
    "    #   给图像增加灰条，实现不失真的resize\n",
    "    #   也可以直接resize进行识别\n",
    "    #---------------------------------------------------------#\n",
    "    image_data  = resize_image(image, (input_shape[1],input_shape[0]), letterbox_image)\n",
    "    #---------------------------------------------------------#\n",
    "    #   添加上batch_size维度\n",
    "    #---------------------------------------------------------#\n",
    "    image_data  = np.expand_dims(np.transpose(preprocess_input(np.array(image_data, dtype='float32')), (2, 0, 1)), 0)\n",
    "\n",
    "    \n",
    "    with torch.no_grad():\n",
    "    images = torch.from_numpy(image_data)\n",
    "\n",
    "    #---------------------------------------------------------#\n",
    "    #   将图像输入网络当中进行预测！\n",
    "    #---------------------------------------------------------#\n",
    "    outputs = self.net(images)\n",
    "    outputs = self.bbox_util.decode_box(outputs)\n",
    "    #---------------------------------------------------------#\n",
    "    #   将预测框进行堆叠，然后进行非极大抑制\n",
    "    #---------------------------------------------------------#\n",
    "    results = self.bbox_util.non_max_suppression(torch.cat(outputs, 1), self.num_classes, self.input_shape, \n",
    "                image_shape, self.letterbox_image, conf_thres = self.confidence, nms_thres = self.nms_iou)\n",
    "\n",
    "    f.close()\n",
    "    return \n"
   ]
  },
  {
   "cell_type": "code",
   "execution_count": 62,
   "id": "03cdf8ee-3e7a-4fde-bd4a-02ed2228a753",
   "metadata": {},
   "outputs": [
    {
     "data": {
      "image/png": "[encoded data removed]",
      "text/plain": [
       "<Figure size 360x360 with 2 Axes>"
      ]
     },
     "metadata": {
      "needs_background": "light"
     },
     "output_type": "display_data"
    }
   ],
   "source": [
    "#coding=utf-8\n",
    "import matplotlib.pyplot as plt\n",
    "import numpy as np\n",
    "from sklearn.metrics import confusion_matrix\n",
    " \n",
    "save_flg = True\n",
    " \n",
    "# confusion = confusion_matrix(y_test, y_pred)\n",
    "confusion = np.array([[14, 0,  0, 0],\n",
    "                     [ 0, 18,  1, 0],\n",
    "                     [ 0,  0, 16, 2],\n",
    "                     [ 0,  0,  1, 22]])\n",
    " \n",
    "plt.figure(figsize=(5, 5))  #设置图片大小\n",
    " \n",
    " \n",
    "import matplotlib.pyplot as plt\n",
    "plt.rcParams['font.sans-serif']=['SimHei'] #显示中文\n",
    "\n",
    "\n",
    "# 1.热度图，后面是指定的颜色块，cmap可设置其他的不同颜色\n",
    "plt.imshow(confusion, cmap=plt.cm.Blues)\n",
    "plt.colorbar()   # 右边的colorbar\n",
    " \n",
    " \n",
    "# 2.设置坐标轴显示列表\n",
    "indices = range(len(confusion))    \n",
    "classes = ['0μl', '2μl', '4μl', '6μl']  \n",
    "# 第一个是迭代对象，表示坐标的显示顺序，第二个参数是坐标轴显示列表\n",
    "plt.xticks(indices, classes) # 设置横坐标方向，rotation=45为45度倾斜\n",
    "plt.yticks(indices, classes)\n",
    " \n",
    " \n",
    "# 3.设置全局字体\n",
    "# 在本例中，坐标轴刻度和图例均用新罗马字体['TimesNewRoman']来表示\n",
    "# ['SimSun']宋体；['SimHei']黑体，有很多自己都可以设置\n",
    "plt.rcParams['font.sans-serif'] = ['SimHei']  \n",
    "plt.rcParams['axes.unicode_minus'] = False\n",
    " \n",
    " \n",
    "# 4.设置坐标轴标题、字体\n",
    "# plt.ylabel('True label')\n",
    "# plt.xlabel('Predicted label')\n",
    "# plt.title('Confusion matrix')\n",
    " \n",
    "#plt.xlabel('预测值')\n",
    "#plt.ylabel('真实值')\n",
    "#plt.title('混淆矩阵', fontsize=12, fontfamily=\"SimHei\")  #可设置标题大小、字体\n",
    " \n",
    " \n",
    "# 5.显示数据\n",
    "normalize = False\n",
    "fmt = '.2f' if normalize else 'd'\n",
    "thresh = confusion.max() / 2.\n",
    " \n",
    "for i in range(len(confusion)):    #第几行\n",
    "    for j in range(len(confusion[i])):    #第几列\n",
    "        plt.text(j, i, format(confusion[i][j], fmt),\n",
    "        fontsize=16,  # 矩阵字体大小\n",
    "        horizontalalignment=\"center\",  # 水平居中。\n",
    "        verticalalignment=\"center\",  # 垂直居中。\n",
    "        color=\"white\" if confusion[i, j] > thresh else \"black\")\n",
    " \n",
    " \n",
    "#6.保存图片\n",
    "if save_flg:  \n",
    "    plt.savefig(\"./img/confusion_matrix.png\",dpi = 300)\n",
    " \n",
    " \n",
    "# 7.显示\n",
    "plt.show()"
   ]
  },
  {
   "cell_type": "code",
   "execution_count": null,
   "id": "851e89ed-029a-4e30-97e7-d9a28a14df3c",
   "metadata": {},
   "outputs": [],
   "source": []
  }
 ],
 "metadata": {
  "kernelspec": {
   "display_name": "Python 3 (ipykernel)",
   "language": "python",
   "name": "python3"
  },
  "language_info": {
   "codemirror_mode": {
    "name": "ipython",
    "version": 3
   },
   "file_extension": ".py",
   "mimetype": "text/x-python",
   "name": "python",
   "nbconvert_exporter": "python",
   "pygments_lexer": "ipython3",
   "version": "3.9.7"
  }
 },
 "nbformat": 4,
 "nbformat_minor": 5
}
